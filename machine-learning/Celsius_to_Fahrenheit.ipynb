{
  "nbformat": 4,
  "nbformat_minor": 0,
  "metadata": {
    "colab": {
      "name": "Celsius to Fahrenheit.ipynb",
      "version": "0.3.2",
      "provenance": [],
      "collapsed_sections": []
    },
    "kernelspec": {
      "name": "python3",
      "display_name": "Python 3"
    }
  },
  "cells": [
    {
      "cell_type": "markdown",
      "metadata": {
        "id": "lFionPB3CeLj",
        "colab_type": "text"
      },
      "source": [
        "The problem we will solve is to convert from Celsius to Fahrenheit, where the approximate formula is:\n",
        "$$ f = c \\times 1.8 + 32 $$\n",
        "\n",
        "Of course, it would be simple enough to create a conventional Python function that directly performs this calculation, but that wouldn't be machine learning.\n",
        "\n",
        "Instead, we will give TensorFlow some sample Celsius values (0, 8, 15, 22, 38) and their corresponding Fahrenheit values (32, 46, 59, 72, 100). Then, we will train a model that figures out the above formula through the training process."
      ]
    },
    {
      "cell_type": "markdown",
      "metadata": {
        "id": "2_Dq-G-vDOJs",
        "colab_type": "text"
      },
      "source": [
        "# Import dependencies\n",
        "\n",
        "First, import TensorFlow. Here, we're calling it `tf` for ease of use. We also tell it to only display errors.\n",
        "Next, import [NumPy](http://www.numpy.org/) as `np`. Numpy helps us to represent our data as highly performant lists."
      ]
    },
    {
      "cell_type": "code",
      "metadata": {
        "id": "aKZz4VQzDf8A",
        "colab_type": "code",
        "colab": {}
      },
      "source": [
        "from __future__ import absolute_import, division, print_function, unicode_literals\n",
        "import tensorflow as tf\n",
        "tf.logging.set_verbosity(tf.logging.ERROR)\n",
        "\n",
        "import numpy as np"
      ],
      "execution_count": 0,
      "outputs": []
    },
    {
      "cell_type": "markdown",
      "metadata": {
        "id": "82J6XuE-D6DO",
        "colab_type": "text"
      },
      "source": [
        "# Set up training data\n",
        "\n",
        "As we saw before, supervised Machine Learning is all about figuring out an algorithm given a set of inputs and outputs. Since the task in this Codelab is to create a model that can give the temperature in Fahrenheit when given the degrees in Celsius, we create two lists celsius_q and fahrenheit_a that we can use to train our model."
      ]
    },
    {
      "cell_type": "code",
      "metadata": {
        "id": "OMDDMDheEFaY",
        "colab_type": "code",
        "outputId": "7eccacde-eadc-4e82-91c7-5029ecfada17",
        "colab": {
          "base_uri": "https://localhost:8080/",
          "height": 138
        }
      },
      "source": [
        "\n",
        "celsius_q      = np.array([-40, -10, 0,  8, 15, 22,  38], dtype=float)\n",
        "fahrenheit_a   = np.array([-40, 14, 32, 46, 59, 72, 100], dtype=float)\n",
        "\n",
        "for i,c in enumerate(celsius_q):\n",
        "  print(\"{} degrees Celsius = {} degrees Fahrenheit\".format(c, fahrenheit_a[i]))"
      ],
      "execution_count": 3,
      "outputs": [
        {
          "output_type": "stream",
          "text": [
            "-40.0 degrees Celsius = -40.0 degrees Fahrenheit\n",
            "-10.0 degrees Celsius = 14.0 degrees Fahrenheit\n",
            "0.0 degrees Celsius = 32.0 degrees Fahrenheit\n",
            "8.0 degrees Celsius = 46.0 degrees Fahrenheit\n",
            "15.0 degrees Celsius = 59.0 degrees Fahrenheit\n",
            "22.0 degrees Celsius = 72.0 degrees Fahrenheit\n",
            "38.0 degrees Celsius = 100.0 degrees Fahrenheit\n"
          ],
          "name": "stdout"
        }
      ]
    },
    {
      "cell_type": "markdown",
      "metadata": {
        "id": "gy73WNLNEy0A",
        "colab_type": "text"
      },
      "source": [
        "# Some Machine Learning termonology\n",
        "\n",
        "\n",
        "*   **Feature** - The input(s) to our model. In this case, a single value - the degrees in Celsius.\n",
        "*   **Labels** - The outputs our models predicts. In this case, a single value — the degrees in Fahrenheit. \n",
        "*  **Example** - A pair of inputs / outputs used during training. In our case a pair of values from `celsius_q` and `fahrenheit_a` at a specific index,  such as `(22,72)`.\n",
        "\n"
      ]
    },
    {
      "cell_type": "markdown",
      "metadata": {
        "id": "FbXqDMgjGk-p",
        "colab_type": "text"
      },
      "source": [
        "# Create a Model\n",
        "\n",
        "Next create the model. We will use simplest possible model we can, a Dense network. Since the problem is straightforward, this network will require only a single layer, with a single neuron.\n",
        "\n",
        "## Buld a layer\n",
        "\n",
        "We'll call the layer `10` and create it by instantiating `tf.keras.layers.Dense` with the following configuration:\n",
        "\n",
        "* `input_shape[1]` - This specifies that the input to this layer is a single value. That is, the shape is a one-dimensional array with one member. Since this is the first (and only) layer, that input shape is the input shape of the entire model. The single value is a floating point number, representing degrees Celsuis.\n",
        "\n",
        "* `units=1` - This specifies the number of neurons in the layer. The number neurons defines how many internal variables the layer has to try to learn how to solve the problem (more later). Since this is the final layer, it is also the size of the model's output - a single float value representing degress Fahrenheit (in a multi-layered network, the size and shape of the layer would need to match the `input_shape` of the next layer)."
      ]
    },
    {
      "cell_type": "code",
      "metadata": {
        "id": "TiUMtyD3IHIA",
        "colab_type": "code",
        "colab": {}
      },
      "source": [
        "l0 = tf.keras.layers.Dense(units=1, input_shape=[1])  "
      ],
      "execution_count": 0,
      "outputs": []
    },
    {
      "cell_type": "markdown",
      "metadata": {
        "id": "dJWW87_va6IE",
        "colab_type": "text"
      },
      "source": [
        "## Assemble layers into the model\n",
        "\n",
        "Once layers are defined, they need to be assembled into a model. The Sequential model definitation takes a list of layers as argument, specifying the calculation order from the input to the output.\n",
        "This model has just a single layer, I0.\n"
      ]
    },
    {
      "cell_type": "code",
      "metadata": {
        "id": "OySkycVkbgwS",
        "colab_type": "code",
        "colab": {}
      },
      "source": [
        "model = tf.keras.Sequential([l0])"
      ],
      "execution_count": 0,
      "outputs": []
    },
    {
      "cell_type": "markdown",
      "metadata": {
        "id": "UlBZ1fahbrhn",
        "colab_type": "text"
      },
      "source": [
        "**Note**\n",
        "\n",
        "You will often see the layers defined inside the model definition, rather than beforehand:"
      ]
    },
    {
      "cell_type": "code",
      "metadata": {
        "id": "-L_rGvJhb5m_",
        "colab_type": "code",
        "colab": {}
      },
      "source": [
        "model = tf.keras.Sequential([\n",
        "    tf.keras.layers.Dense(units=1, input_shape=[1])\n",
        "])"
      ],
      "execution_count": 0,
      "outputs": []
    },
    {
      "cell_type": "markdown",
      "metadata": {
        "id": "I7YGZg3JcK5o",
        "colab_type": "text"
      },
      "source": [
        "# Compile the modile, with loss and optimer functions\n",
        "\n",
        "Before training, the model has to be complied. When compiled for training, the model is given:\n",
        "- **Loss function** - A way of measuring how far off predictions are from desired outcome. (The measured difference is called the the \"loss\").\n",
        "- **Optimizer function** - A way of adjusting interval values in order to reduce the loss."
      ]
    },
    {
      "cell_type": "code",
      "metadata": {
        "id": "tdWgOvZHc7x0",
        "colab_type": "code",
        "colab": {}
      },
      "source": [
        "model.compile(loss='mean_squared_error', optimizer=tf.keras.optimizers.Adam(0.1))"
      ],
      "execution_count": 0,
      "outputs": []
    },
    {
      "cell_type": "markdown",
      "metadata": {
        "id": "zm9GzpABdY3G",
        "colab_type": "text"
      },
      "source": [
        "These are used during training(model.fit(), bellow) to first calculate the loass at the each point, and then improve it. In fact, the act of calculating the current loss of a model and then improving it is precisely what training is. \n",
        "\n",
        "During training, the optimizer functions is used to calculate adjusments to the model's interval variables. The goal is to adjest the internal variables until the method(which is really a math function) mirrors the actual equation for converting Celsisus to Fahrenheit.\n",
        "\n",
        "TensorFlow uses numerical analysis to perform this tuning, and all this complexity is hidden from you so we will not go into the details here. What is useful to know about these parameters are: \n",
        "The loss function([mean squared error](https://en.wikipedia.org/wiki/Mean_squared_error)) and optimizer ([Adam](https://machinelearningmastery.com/adam-optimization-algorithm-for-deep-learning/)) used here are standard for simple models like this one, but many others are available. It is not important to know how these specific functions work at this point.\n",
        "One part of the Optimizer you may need to think about when building own models is the learning rate(0.1 in the code above). This is the step size taken when adjusting values in the model. If the value is too smart, it will take too many iterations to train the model. Too large, and accuracy goes down. Finding a good value often involves some trial and error, but the range is usually within 0.001 (default), and 0.1"
      ]
    },
    {
      "cell_type": "markdown",
      "metadata": {
        "id": "ffdV-yXNhnF6",
        "colab_type": "text"
      },
      "source": [
        "#  Train the model\n",
        "\n",
        "Train the model by calling the fit method.\n",
        "During training, the model takes in Celsius values, performs a calculation using the current internal variables (called \"weights\") and outputs values which are meant to be the Fahrenheit equivalent. Since the weights are initially set randomly, the output will not be close to the correct value. The difference between the actual output and the desired output is calculated using the loss function, and the optimizer function directs how the weights should be adjusted.\n",
        "This cycle of calculate, compare, adjust is controlled by the fit method. The first argument is the inputs, the second argument is the desired outputs. The epochs argument specifies how many time this cycle should be run, and the verbose argument controls how much output method produces."
      ]
    },
    {
      "cell_type": "code",
      "metadata": {
        "id": "4t6SWM0kj1Uz",
        "colab_type": "code",
        "outputId": "553c9b78-74b6-4e54-f2f7-ca222292cbce",
        "colab": {
          "base_uri": "https://localhost:8080/",
          "height": 35
        }
      },
      "source": [
        "history = model.fit(celsius_q, fahrenheit_a, epochs=500, verbose=False)\n",
        "print(\"Finished training the model\")"
      ],
      "execution_count": 8,
      "outputs": [
        {
          "output_type": "stream",
          "text": [
            "Finished training the model\n"
          ],
          "name": "stdout"
        }
      ]
    },
    {
      "cell_type": "markdown",
      "metadata": {
        "id": "yvuhp0oWkNup",
        "colab_type": "text"
      },
      "source": [
        "# Display training statistics\n",
        "\n",
        "The fit method returns a history object. We can use this object to plot how the loss of our model goes down after each training epoch. A high loss means that the Fahrenheit degrees the model predicts is far from the corresponding value in fahrenheit_a.\n",
        "We'll use [Matplotlib](https://matplotlib.org/) to visualize this(you could use another tool). As you can see, our model improves very quickly at first, and then has a steady, slow improvement until it is very near \"perfect\" towards the end."
      ]
    },
    {
      "cell_type": "code",
      "metadata": {
        "id": "y6Pdc1X2lnPF",
        "colab_type": "code",
        "outputId": "8941695a-f7d2-466e-8648-e24ffce608da",
        "colab": {
          "base_uri": "https://localhost:8080/",
          "height": 301
        }
      },
      "source": [
        "import matplotlib.pyplot as plt\n",
        "plt.xlabel('Epoch Number')\n",
        "plt.ylabel('Loss Magnitude')\n",
        "plt.plot(history.history['loss'])"
      ],
      "execution_count": 9,
      "outputs": [
        {
          "output_type": "execute_result",
          "data": {
            "text/plain": [
              "[<matplotlib.lines.Line2D at 0x7f99f2b3c8d0>]"
            ]
          },
          "metadata": {
            "tags": []
          },
          "execution_count": 9
        },
        {
          "output_type": "display_data",
          "data": {
            "image/png": "[encoded data removed]",
            "text/plain": [
              "<Figure size 432x288 with 1 Axes>"
            ]
          },
          "metadata": {
            "tags": []
          }
        }
      ]
    },
    {
      "cell_type": "markdown",
      "metadata": {
        "id": "5iJgBEz8mK6u",
        "colab_type": "text"
      },
      "source": [
        "# Use the model to predict values\n",
        "\n",
        "Now you have a model that has been trained to learn the relationship between `celsiuis_q` and `fahrenheit_a`. You can use the predict method to have it calculate the Fahrenheit degrees for a previously unknown Celsius degrees.\n",
        "So, for example, if the Celsius value is 100, what do you think the Fahreinheit result will be ? Take a guess before you run the this code."
      ]
    },
    {
      "cell_type": "code",
      "metadata": {
        "id": "-UpV4i4PnWWB",
        "colab_type": "code",
        "outputId": "8f59592f-ca8a-43b8-984d-97518ed89c34",
        "colab": {
          "base_uri": "https://localhost:8080/",
          "height": 35
        }
      },
      "source": [
        "print(model.predict([100.0]))"
      ],
      "execution_count": 14,
      "outputs": [
        {
          "output_type": "stream",
          "text": [
            "[[211.33582]]\n"
          ],
          "name": "stdout"
        }
      ]
    },
    {
      "cell_type": "markdown",
      "metadata": {
        "id": "wGR48vSInyJg",
        "colab_type": "text"
      },
      "source": [
        "The correct answer is $100 \\times 1.8 + 32 = 212$, so our model is doing really well.\n",
        "\n",
        "## To review\n",
        "- We created a model with a Dense layer\n",
        "- We trained it with 3500 examples(7 pairs, over 500 epochs).\n",
        "Our model tuned the variables(weights) in the Dense layer until it was able to return the correct Fahrenheit value for any Celsius value (Rember, 100 Celsius was not part of our training data.)"
      ]
    },
    {
      "cell_type": "markdown",
      "metadata": {
        "id": "e9a40RpaqCzN",
        "colab_type": "text"
      },
      "source": [
        ""
      ]
    },
    {
      "cell_type": "markdown",
      "metadata": {
        "id": "w2zJyvBJosu5",
        "colab_type": "text"
      },
      "source": [
        "# Looking at the layer weights\n",
        "\n",
        "Finally, let's print the internal variables of the Dense layer."
      ]
    },
    {
      "cell_type": "code",
      "metadata": {
        "id": "X2CaexEPo25q",
        "colab_type": "code",
        "colab": {
          "base_uri": "https://localhost:8080/",
          "height": 35
        },
        "outputId": "67e6348c-a57b-4b07-956a-933db5513d55"
      },
      "source": [
        "print(\"These are the layer variables: {}\".format(l0.get_weights()))"
      ],
      "execution_count": 13,
      "outputs": [
        {
          "output_type": "stream",
          "text": [
            "These are the layer variables: [array([[-0.18018222]], dtype=float32), array([0.], dtype=float32)]\n"
          ],
          "name": "stdout"
        }
      ]
    },
    {
      "cell_type": "markdown",
      "metadata": {
        "id": "-SRtxjV9qEkW",
        "colab_type": "text"
      },
      "source": [
        "The first variable is close to ~1.8 and the second to ~32. These values (1.8 and 32) are the actual variables in the real conversion formula.\n",
        "\n",
        "This is really close to the values in the conversion formula. We'll explain this in an upcoming video where we show how a Dense layer works, but for a single neuron with a single input and a single output, the internal math looks the same as [the equation for a line](https://en.wikipedia.org/wiki/Linear_equation#Slope%E2%80%93intercept_form), $y = mx + b$, which has the same form as the conversion equation, $f = 1.8c + 32$.\n",
        "\n",
        "Since the form is the same, the variables should converge on the standard values of 1.8 and 32, which is exactly what happened.\n",
        "\n",
        "With additional neurons, additional inputs, and additional outputs, the formula becomes much more complex, but the idea is the same. \n",
        "\n",
        "### A little experiment\n",
        "\n",
        "Just for fun, what if we created more Dense layers with different units, which therefore also has more variables?"
      ]
    },
    {
      "cell_type": "code",
      "metadata": {
        "id": "Ev60iWGFqHLJ",
        "colab_type": "code",
        "colab": {
          "base_uri": "https://localhost:8080/",
          "height": 276
        },
        "outputId": "0795541a-d202-463f-feeb-a0270a6c67dd"
      },
      "source": [
        "l0 = tf.keras.layers.Dense(units=4, input_shape=[1])\n",
        "l1 = tf.keras.layers.Dense(units=4)\n",
        "l2 = tf.keras.layers.Dense(units=1)\n",
        "\n",
        "model = tf.keras.Sequential([l0, l1, l2])\n",
        "\n",
        "model.compile(loss='mean_squared_error', optimizer=tf.keras.optimizers.Adam(0.1))\n",
        "model.fit(celsius_q, fahrenheit_a, epochs=500, verbose=False)\n",
        "print(\"Finshed training the model\")\n",
        "\n",
        "print(model.predict([100.0, 150.0]))\n",
        "\n",
        "print(\"Model predicts that 100 degrees Celsius is: {} degrees Fahrenheit\".format(model.predict([100.0])))\n",
        "print(\"These are the l0 variables: {}\".format(l0.get_weights()))\n",
        "print(\"These are the l1 variables: {}\".format(l1.get_weights()))\n",
        "print(\"These are the l2 variables: {}\".format(l2.get_weights()))"
      ],
      "execution_count": 25,
      "outputs": [
        {
          "output_type": "stream",
          "text": [
            "Finshed training the model\n",
            "[[211.74739]\n",
            " [301.6448 ]]\n",
            "Model predicts that 100 degrees Celsius is: [[211.74739]] degrees Fahrenheit\n",
            "These are the l0 variables: [array([[-0.3987906 , -0.5399785 ,  0.04859157, -0.3546553 ]],\n",
            "      dtype=float32), array([-3.8451018 , -4.1562724 ,  1.8174137 ,  0.86249536], dtype=float32)]\n",
            "These are the l1 variables: [array([[ 0.7320816 ,  0.79374975, -0.8535087 , -0.4998273 ],\n",
            "       [ 0.56386733,  1.0152042 , -1.3370633 , -0.8014523 ],\n",
            "       [-0.07987572, -1.1834774 , -0.96729463,  0.19536163],\n",
            "       [-0.80276453, -0.13342656,  0.10499672,  0.52385294]],\n",
            "      dtype=float32), array([-2.894673 , -4.011439 ,  3.1310875,  2.5052438], dtype=float32)]\n",
            "These are the l2 variables: [array([[-0.7221315 ],\n",
            "       [-0.8730347 ],\n",
            "       [ 0.6357126 ],\n",
            "       [ 0.40459022]], dtype=float32), array([3.6886866], dtype=float32)]\n"
          ],
          "name": "stdout"
        }
      ]
    },
    {
      "cell_type": "markdown",
      "metadata": {
        "id": "cRwN25u0rv2c",
        "colab_type": "text"
      },
      "source": [
        "As you can see, this model is also able to predict the corresponding Fahrenheit value really well. But when you look at the variables (weights) in the l0 and l1 layers, they are nothing even close to ~1.8 and ~32. The added complexity hides the \"simple\" form of the conversion equation. "
      ]
    }
  ]
}