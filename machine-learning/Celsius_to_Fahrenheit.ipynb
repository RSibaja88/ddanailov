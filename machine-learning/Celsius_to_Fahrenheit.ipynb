{
  "nbformat": 4,
  "nbformat_minor": 0,
  "metadata": {
    "colab": {
      "name": "Celsius to Fahrenheit.ipynb",
      "version": "0.3.2",
      "provenance": []
    },
    "kernelspec": {
      "name": "python3",
      "display_name": "Python 3"
    }
  },
  "cells": [
    {
      "cell_type": "markdown",
      "metadata": {
        "id": "lFionPB3CeLj",
        "colab_type": "text"
      },
      "source": [
        "The problem we will solve is to convert from Celsius to Fahrenheit, where the approximate formula is:\n",
        "$$ f = c \\times 1.8 + 32 $$\n",
        "\n",
        "Of course, it would be simple enough to create a conventional Python function that directly performs this calculation, but that wouldn't be machine learning.\n",
        "\n",
        "Instead, we will give TensorFlow some sample Celsius values (0, 8, 15, 22, 38) and their corresponding Fahrenheit values (32, 46, 59, 72, 100). Then, we will train a model that figures out the above formula through the training process."
      ]
    },
    {
      "cell_type": "markdown",
      "metadata": {
        "id": "2_Dq-G-vDOJs",
        "colab_type": "text"
      },
      "source": [
        "# Import dependencies\n",
        "\n",
        "First, import TensorFlow. Here, we're calling it `tf` for ease of use. We also tell it to only display errors.\n",
        "Next, import [NumPy](http://www.numpy.org/) as `np`. Numpy helps us to represent our data as highly performant lists."
      ]
    },
    {
      "cell_type": "code",
      "metadata": {
        "id": "aKZz4VQzDf8A",
        "colab_type": "code",
        "colab": {}
      },
      "source": [
        "from __future__ import absolute_import, division, print_function, unicode_literals\n",
        "import tensorflow as tf\n",
        "tf.logging.set_verbosity(tf.logging.ERROR)\n",
        "\n",
        "import numpy as np"
      ],
      "execution_count": 0,
      "outputs": []
    },
    {
      "cell_type": "markdown",
      "metadata": {
        "id": "82J6XuE-D6DO",
        "colab_type": "text"
      },
      "source": [
        "# Set up training data\n",
        "\n",
        "As we saw before, supervised Machine Learning is all about figuring out an algorithm given a set of inputs and outputs. Since the task in this Codelab is to create a model that can give the temperature in Fahrenheit when given the degrees in Celsius, we create two lists celsius_q and fahrenheit_a that we can use to train our model."
      ]
    },
    {
      "cell_type": "code",
      "metadata": {
        "id": "OMDDMDheEFaY",
        "colab_type": "code",
        "outputId": "31358dc4-7a12-4b8b-e908-b536cfef5956",
        "colab": {
          "base_uri": "https://localhost:8080/",
          "height": 136
        }
      },
      "source": [
        "\n",
        "celsius_q      = np.array([-40, -10, 0,  8, 15, 22,  38], dtype=float)\n",
        "fahrenheit_a   = np.array([-40, 14, 32, 46, 59, 72, 100], dtype=float)\n",
        "\n",
        "for i,c in enumerate(celsius_q):\n",
        "  print(\"{} degrees Celsius = {} degrees Fahrenheit\".format(c, fahrenheit_a[i]))"
      ],
      "execution_count": 12,
      "outputs": [
        {
          "output_type": "stream",
          "text": [
            "-40.0 degrees Celsius = -40.0 degrees Fahrenheit\n",
            "-10.0 degrees Celsius = 14.0 degrees Fahrenheit\n",
            "0.0 degrees Celsius = 32.0 degrees Fahrenheit\n",
            "8.0 degrees Celsius = 46.0 degrees Fahrenheit\n",
            "15.0 degrees Celsius = 59.0 degrees Fahrenheit\n",
            "22.0 degrees Celsius = 72.0 degrees Fahrenheit\n",
            "38.0 degrees Celsius = 100.0 degrees Fahrenheit\n"
          ],
          "name": "stdout"
        }
      ]
    },
    {
      "cell_type": "markdown",
      "metadata": {
        "id": "gy73WNLNEy0A",
        "colab_type": "text"
      },
      "source": [
        "# Some Machine Learning termonology\n",
        "\n",
        "\n",
        "*   **Feature** - The input(s) to our model. In this case, a single value - the degrees in Celsius.\n",
        "*   **Labels** - The outputs our models predicts. In this case, a single value — the degrees in Fahrenheit. \n",
        "*  **Example** - A pair of inputs / outputs used during training. In our case a pair of values from `celsius_q` and `fahrenheit_a` at a specific index,  such as `(22,72)`.\n",
        "\n"
      ]
    },
    {
      "cell_type": "markdown",
      "metadata": {
        "id": "FbXqDMgjGk-p",
        "colab_type": "text"
      },
      "source": [
        "# Create a Model\n",
        "\n",
        "Next create the model. We will use simplest possible model we can, a Dense network. Since the problem is straightforward, this network will require only a single layer, with a single neuron.\n",
        "\n",
        "## Buld a layer\n",
        "\n",
        "We'll call the layer `10` and create it by instantiating `tf.keras.layers.Dense` with the following configuration:\n",
        "\n",
        "* `input_shape[1]` - This specifies that the input to this layer is a single value. That is, the shape is a one-dimensional array with one member. Since this is the first (and only) layer, that input shape is the input shape of the entire model. The single value is a floating point number, representing degrees Celsuis.\n",
        "\n",
        "* `units=1` - This specifies the number of neurons in the layer. The number neurons defines how many internal variables the layer has to try to learn how to solve the problem (more later). Since this is the final layer, it is also the size of the model's output - a single float value representing degress Fahrenheit (in a multi-layered network, the size and shape of the layer would need to match the `input_shape` of the next layer)."
      ]
    },
    {
      "cell_type": "code",
      "metadata": {
        "id": "TiUMtyD3IHIA",
        "colab_type": "code",
        "colab": {}
      },
      "source": [
        "layer = tf.keras.layers.Dense(units=1, input_shape=[1])  "
      ],
      "execution_count": 0,
      "outputs": []
    }
  ]
}